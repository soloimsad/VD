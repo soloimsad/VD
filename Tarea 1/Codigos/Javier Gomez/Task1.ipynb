{
 "cells": [
  {
   "cell_type": "code",
   "execution_count": 5,
   "id": "6158cc60",
   "metadata": {},
   "outputs": [
    {
     "name": "stderr",
     "output_type": "stream",
     "text": [
      "\n",
      "Usage:   \n",
      "  pip install [options] <requirement specifier> [package-index-options] ...\n",
      "  pip install [options] -r <requirements file> [package-index-options] ...\n",
      "  pip install [options] [-e] <vcs project url> ...\n",
      "  pip install [options] [-e] <local project path> ...\n",
      "  pip install [options] <archive url/path> ...\n",
      "\n",
      "ambiguous option: --upgrad (--upgrade, --upgrade-strategy?)\n"
     ]
    }
   ],
   "source": [
    "#librerias requeridas (NO BORRAR)\n",
    "!pip install plotly nbformat ipython jupyterlab_widgets --upgrad\n",
    "\n",
    "#librerias (NO BORRAR)\n",
    "import pandas as pd\n",
    "import plotly.express as px\n",
    "import plotly.io as pio\n",
    "\n",
    "import os\n",
    "current_dir = os.path.abspath('')\n",
    "ruta_images = os.path.join(current_dir, \"..\", \"..\", \"images\") \n",
    "os.makedirs(ruta_images, exist_ok=True)\n"
   ]
  },
  {
   "cell_type": "markdown",
   "id": "446e682f",
   "metadata": {},
   "source": [
    "**Gráfico 2**\n",
    "\n",
    "**HORAS DIARIAS POR PAÍS**"
   ]
  },
  {
   "cell_type": "code",
   "execution_count": 6,
   "id": "11561e63",
   "metadata": {},
   "outputs": [
    {
     "data": {
      "application/vnd.plotly.v1+json": {
       "config": {
        "plotlyServerURL": "https://plot.ly"
       },
       "data": [
        {
         "branchvalues": "total",
         "customdata": {
          "bdata": "7FG4HoXrC0CE61G4HoULQArXo3A9CgtAuB6F61G4CkC4HoXrUbgKQI/C9ShcjwpAUrgehetRCkCbmZmZmZkJQB+F61G4HglAzczMzMzMCECjcD0K16MIQHsUrkfhegRAKVyPwvUoBEAAAAAAAAAEQIXrUbgehQNAMzMzMzMzA0AK16NwPQoDQM3MzMzMzAJAUrgehetRAkA9CtejcD0CQBSuR+F6FAJAFK5H4XoUAkDD9Shcj8IBQFyPwvUoXAFASOF6FK5HAUBI4XoUrkcBQOF6FK5H4QBA4XoUrkfhAEBSuB6F61EAQFK4HoXrUQBAcT0K16Nw+T9xPQrXo3D5P83MzMzMzPg/zczMzMzM+D97FK5H4Xr4P3sUrkfhevg/exSuR+F6+D9SuB6F61H4P1K4HoXrUfg/UrgehetR+D/Xo3A9Ctf3P4XrUbgehfc/W4/C9Shc9z9bj8L1KFz3P+F6FK5H4fY/PQrXo3A99j/D9Shcj8L1P0jhehSuR/U/9ihcj8L19D/NzMzMzMz0P8P1KFyPwvE/FK5H4XoU3j8=",
          "dtype": "f8",
          "shape": "52, 1"
         },
         "domain": {
          "x": [
           0,
           1
          ],
          "y": [
           0,
           1
          ]
         },
         "hovertemplate": "<b>%{label}</b><br>Horas: %{value:.2f}",
         "ids": [
          "Brazil",
          "Nigeria",
          "Philippines",
          "South Africa",
          "Chile",
          "Kenya",
          "Columbia",
          "Ghana",
          "Indonesia",
          "México",
          "Argentina",
          "Turkey",
          "Malaysia",
          "Saudi Arabia",
          "UAE",
          "Egypt",
          "Bulgaria",
          "Thailand",
          "India",
          "Portugal",
          "Global",
          "Romania",
          "Russia",
          "Vietnam",
          "Morocco",
          "USA",
          "Singapore",
          "Israel",
          "China",
          "New Zealand",
          "Ireland",
          "Greece",
          "Hong Kong",
          "Canada",
          "Australia",
          "Norway",
          "Taiwan",
          "Poland",
          "Spain",
          "Sweden",
          "Denmark",
          "Czechia",
          "France",
          "UK",
          "Italy",
          "Hungary",
          "Switzerland",
          "Germany",
          "Netherlands",
          "Belgium",
          "South Korea",
          "Japan"
         ],
         "labels": [
          "Brazil",
          "Nigeria",
          "Philippines",
          "South Africa",
          "Chile",
          "Kenya",
          "Columbia",
          "Ghana",
          "Indonesia",
          "México",
          "Argentina",
          "Turkey",
          "Malaysia",
          "Saudi Arabia",
          "UAE",
          "Egypt",
          "Bulgaria",
          "Thailand",
          "India",
          "Portugal",
          "Global",
          "Romania",
          "Russia",
          "Vietnam",
          "Morocco",
          "USA",
          "Singapore",
          "Israel",
          "China",
          "New Zealand",
          "Ireland",
          "Greece",
          "Hong Kong",
          "Canada",
          "Australia",
          "Norway",
          "Taiwan",
          "Poland",
          "Spain",
          "Sweden",
          "Denmark",
          "Czechia",
          "France",
          "UK",
          "Italy",
          "Hungary",
          "Switzerland",
          "Germany",
          "Netherlands",
          "Belgium",
          "South Korea",
          "Japan"
         ],
         "marker": {
          "coloraxis": "coloraxis",
          "colors": {
           "bdata": "7FG4HoXrC0CE61G4HoULQArXo3A9CgtAuB6F61G4CkC4HoXrUbgKQI/C9ShcjwpAUrgehetRCkCbmZmZmZkJQB+F61G4HglAzczMzMzMCECjcD0K16MIQHsUrkfhegRAKVyPwvUoBEAAAAAAAAAEQIXrUbgehQNAMzMzMzMzA0AK16NwPQoDQM3MzMzMzAJAUrgehetRAkA9CtejcD0CQBSuR+F6FAJAFK5H4XoUAkDD9Shcj8IBQFyPwvUoXAFASOF6FK5HAUBI4XoUrkcBQOF6FK5H4QBA4XoUrkfhAEBSuB6F61EAQFK4HoXrUQBAcT0K16Nw+T9xPQrXo3D5P83MzMzMzPg/zczMzMzM+D97FK5H4Xr4P3sUrkfhevg/exSuR+F6+D9SuB6F61H4P1K4HoXrUfg/UrgehetR+D/Xo3A9Ctf3P4XrUbgehfc/W4/C9Shc9z9bj8L1KFz3P+F6FK5H4fY/PQrXo3A99j/D9Shcj8L1P0jhehSuR/U/9ihcj8L19D/NzMzMzMz0P8P1KFyPwvE/FK5H4XoU3j8=",
           "dtype": "f8"
          }
         },
         "name": "",
         "parents": [
          "",
          "",
          "",
          "",
          "",
          "",
          "",
          "",
          "",
          "",
          "",
          "",
          "",
          "",
          "",
          "",
          "",
          "",
          "",
          "",
          "",
          "",
          "",
          "",
          "",
          "",
          "",
          "",
          "",
          "",
          "",
          "",
          "",
          "",
          "",
          "",
          "",
          "",
          "",
          "",
          "",
          "",
          "",
          "",
          "",
          "",
          "",
          "",
          "",
          "",
          "",
          ""
         ],
         "textinfo": "label+value",
         "texttemplate": "%{label}<br>%{value:.2f}h",
         "type": "treemap",
         "values": {
          "bdata": "7FG4HoXrC0CF61G4HoULQArXo3A9CgtAuB6F61G4CkC4HoXrUbgKQI/C9ShcjwpAUrgehetRCkCamZmZmZkJQB+F61G4HglAzczMzMzMCECkcD0K16MIQHsUrkfhegRAKVyPwvUoBEAAAAAAAAAEQIXrUbgehQNAMzMzMzMzA0AK16NwPQoDQM3MzMzMzAJAUrgehetRAkA9CtejcD0CQBSuR+F6FAJAFK5H4XoUAkDD9Shcj8IBQFyPwvUoXAFASOF6FK5HAUBI4XoUrkcBQOF6FK5H4QBA4XoUrkfhAEBSuB6F61EAQFK4HoXrUQBAcT0K16Nw+T9xPQrXo3D5P83MzMzMzPg/zczMzMzM+D97FK5H4Xr4P3sUrkfhevg/exSuR+F6+D9SuB6F61H4P1K4HoXrUfg/UrgehetR+D/Xo3A9Ctf3P4XrUbgehfc/XI/C9Shc9z9cj8L1KFz3P+F6FK5H4fY/PQrXo3A99j/D9Shcj8L1P0jhehSuR/U/9ihcj8L19D/NzMzMzMz0P8P1KFyPwvE/FK5H4XoU3j8=",
          "dtype": "f8"
         }
        }
       ],
       "layout": {
        "coloraxis": {
         "colorbar": {
          "thickness": 20,
          "title": {
           "text": "Horas/día"
          }
         },
         "colorscale": [
          [
           0,
           "rgb(255,255,204)"
          ],
          [
           0.125,
           "rgb(255,237,160)"
          ],
          [
           0.25,
           "rgb(254,217,118)"
          ],
          [
           0.375,
           "rgb(254,178,76)"
          ],
          [
           0.5,
           "rgb(253,141,60)"
          ],
          [
           0.625,
           "rgb(252,78,42)"
          ],
          [
           0.75,
           "rgb(227,26,28)"
          ],
          [
           0.875,
           "rgb(189,0,38)"
          ],
          [
           1,
           "rgb(128,0,38)"
          ]
         ]
        },
        "font": {
         "size": 12
        },
        "height": 700,
        "legend": {
         "tracegroupgap": 0
        },
        "margin": {
         "b": 25,
         "l": 25,
         "r": 25,
         "t": 50
        },
        "template": {
         "data": {
          "bar": [
           {
            "error_x": {
             "color": "#2a3f5f"
            },
            "error_y": {
             "color": "#2a3f5f"
            },
            "marker": {
             "line": {
              "color": "#E5ECF6",
              "width": 0.5
             },
             "pattern": {
              "fillmode": "overlay",
              "size": 10,
              "solidity": 0.2
             }
            },
            "type": "bar"
           }
          ],
          "barpolar": [
           {
            "marker": {
             "line": {
              "color": "#E5ECF6",
              "width": 0.5
             },
             "pattern": {
              "fillmode": "overlay",
              "size": 10,
              "solidity": 0.2
             }
            },
            "type": "barpolar"
           }
          ],
          "carpet": [
           {
            "aaxis": {
             "endlinecolor": "#2a3f5f",
             "gridcolor": "white",
             "linecolor": "white",
             "minorgridcolor": "white",
             "startlinecolor": "#2a3f5f"
            },
            "baxis": {
             "endlinecolor": "#2a3f5f",
             "gridcolor": "white",
             "linecolor": "white",
             "minorgridcolor": "white",
             "startlinecolor": "#2a3f5f"
            },
            "type": "carpet"
           }
          ],
          "choropleth": [
           {
            "colorbar": {
             "outlinewidth": 0,
             "ticks": ""
            },
            "type": "choropleth"
           }
          ],
          "contour": [
           {
            "colorbar": {
             "outlinewidth": 0,
             "ticks": ""
            },
            "colorscale": [
             [
              0,
              "#0d0887"
             ],
             [
              0.1111111111111111,
              "#46039f"
             ],
             [
              0.2222222222222222,
              "#7201a8"
             ],
             [
              0.3333333333333333,
              "#9c179e"
             ],
             [
              0.4444444444444444,
              "#bd3786"
             ],
             [
              0.5555555555555556,
              "#d8576b"
             ],
             [
              0.6666666666666666,
              "#ed7953"
             ],
             [
              0.7777777777777778,
              "#fb9f3a"
             ],
             [
              0.8888888888888888,
              "#fdca26"
             ],
             [
              1,
              "#f0f921"
             ]
            ],
            "type": "contour"
           }
          ],
          "contourcarpet": [
           {
            "colorbar": {
             "outlinewidth": 0,
             "ticks": ""
            },
            "type": "contourcarpet"
           }
          ],
          "heatmap": [
           {
            "colorbar": {
             "outlinewidth": 0,
             "ticks": ""
            },
            "colorscale": [
             [
              0,
              "#0d0887"
             ],
             [
              0.1111111111111111,
              "#46039f"
             ],
             [
              0.2222222222222222,
              "#7201a8"
             ],
             [
              0.3333333333333333,
              "#9c179e"
             ],
             [
              0.4444444444444444,
              "#bd3786"
             ],
             [
              0.5555555555555556,
              "#d8576b"
             ],
             [
              0.6666666666666666,
              "#ed7953"
             ],
             [
              0.7777777777777778,
              "#fb9f3a"
             ],
             [
              0.8888888888888888,
              "#fdca26"
             ],
             [
              1,
              "#f0f921"
             ]
            ],
            "type": "heatmap"
           }
          ],
          "histogram": [
           {
            "marker": {
             "pattern": {
              "fillmode": "overlay",
              "size": 10,
              "solidity": 0.2
             }
            },
            "type": "histogram"
           }
          ],
          "histogram2d": [
           {
            "colorbar": {
             "outlinewidth": 0,
             "ticks": ""
            },
            "colorscale": [
             [
              0,
              "#0d0887"
             ],
             [
              0.1111111111111111,
              "#46039f"
             ],
             [
              0.2222222222222222,
              "#7201a8"
             ],
             [
              0.3333333333333333,
              "#9c179e"
             ],
             [
              0.4444444444444444,
              "#bd3786"
             ],
             [
              0.5555555555555556,
              "#d8576b"
             ],
             [
              0.6666666666666666,
              "#ed7953"
             ],
             [
              0.7777777777777778,
              "#fb9f3a"
             ],
             [
              0.8888888888888888,
              "#fdca26"
             ],
             [
              1,
              "#f0f921"
             ]
            ],
            "type": "histogram2d"
           }
          ],
          "histogram2dcontour": [
           {
            "colorbar": {
             "outlinewidth": 0,
             "ticks": ""
            },
            "colorscale": [
             [
              0,
              "#0d0887"
             ],
             [
              0.1111111111111111,
              "#46039f"
             ],
             [
              0.2222222222222222,
              "#7201a8"
             ],
             [
              0.3333333333333333,
              "#9c179e"
             ],
             [
              0.4444444444444444,
              "#bd3786"
             ],
             [
              0.5555555555555556,
              "#d8576b"
             ],
             [
              0.6666666666666666,
              "#ed7953"
             ],
             [
              0.7777777777777778,
              "#fb9f3a"
             ],
             [
              0.8888888888888888,
              "#fdca26"
             ],
             [
              1,
              "#f0f921"
             ]
            ],
            "type": "histogram2dcontour"
           }
          ],
          "mesh3d": [
           {
            "colorbar": {
             "outlinewidth": 0,
             "ticks": ""
            },
            "type": "mesh3d"
           }
          ],
          "parcoords": [
           {
            "line": {
             "colorbar": {
              "outlinewidth": 0,
              "ticks": ""
             }
            },
            "type": "parcoords"
           }
          ],
          "pie": [
           {
            "automargin": true,
            "type": "pie"
           }
          ],
          "scatter": [
           {
            "fillpattern": {
             "fillmode": "overlay",
             "size": 10,
             "solidity": 0.2
            },
            "type": "scatter"
           }
          ],
          "scatter3d": [
           {
            "line": {
             "colorbar": {
              "outlinewidth": 0,
              "ticks": ""
             }
            },
            "marker": {
             "colorbar": {
              "outlinewidth": 0,
              "ticks": ""
             }
            },
            "type": "scatter3d"
           }
          ],
          "scattercarpet": [
           {
            "marker": {
             "colorbar": {
              "outlinewidth": 0,
              "ticks": ""
             }
            },
            "type": "scattercarpet"
           }
          ],
          "scattergeo": [
           {
            "marker": {
             "colorbar": {
              "outlinewidth": 0,
              "ticks": ""
             }
            },
            "type": "scattergeo"
           }
          ],
          "scattergl": [
           {
            "marker": {
             "colorbar": {
              "outlinewidth": 0,
              "ticks": ""
             }
            },
            "type": "scattergl"
           }
          ],
          "scattermap": [
           {
            "marker": {
             "colorbar": {
              "outlinewidth": 0,
              "ticks": ""
             }
            },
            "type": "scattermap"
           }
          ],
          "scattermapbox": [
           {
            "marker": {
             "colorbar": {
              "outlinewidth": 0,
              "ticks": ""
             }
            },
            "type": "scattermapbox"
           }
          ],
          "scatterpolar": [
           {
            "marker": {
             "colorbar": {
              "outlinewidth": 0,
              "ticks": ""
             }
            },
            "type": "scatterpolar"
           }
          ],
          "scatterpolargl": [
           {
            "marker": {
             "colorbar": {
              "outlinewidth": 0,
              "ticks": ""
             }
            },
            "type": "scatterpolargl"
           }
          ],
          "scatterternary": [
           {
            "marker": {
             "colorbar": {
              "outlinewidth": 0,
              "ticks": ""
             }
            },
            "type": "scatterternary"
           }
          ],
          "surface": [
           {
            "colorbar": {
             "outlinewidth": 0,
             "ticks": ""
            },
            "colorscale": [
             [
              0,
              "#0d0887"
             ],
             [
              0.1111111111111111,
              "#46039f"
             ],
             [
              0.2222222222222222,
              "#7201a8"
             ],
             [
              0.3333333333333333,
              "#9c179e"
             ],
             [
              0.4444444444444444,
              "#bd3786"
             ],
             [
              0.5555555555555556,
              "#d8576b"
             ],
             [
              0.6666666666666666,
              "#ed7953"
             ],
             [
              0.7777777777777778,
              "#fb9f3a"
             ],
             [
              0.8888888888888888,
              "#fdca26"
             ],
             [
              1,
              "#f0f921"
             ]
            ],
            "type": "surface"
           }
          ],
          "table": [
           {
            "cells": {
             "fill": {
              "color": "#EBF0F8"
             },
             "line": {
              "color": "white"
             }
            },
            "header": {
             "fill": {
              "color": "#C8D4E3"
             },
             "line": {
              "color": "white"
             }
            },
            "type": "table"
           }
          ]
         },
         "layout": {
          "annotationdefaults": {
           "arrowcolor": "#2a3f5f",
           "arrowhead": 0,
           "arrowwidth": 1
          },
          "autotypenumbers": "strict",
          "coloraxis": {
           "colorbar": {
            "outlinewidth": 0,
            "ticks": ""
           }
          },
          "colorscale": {
           "diverging": [
            [
             0,
             "#8e0152"
            ],
            [
             0.1,
             "#c51b7d"
            ],
            [
             0.2,
             "#de77ae"
            ],
            [
             0.3,
             "#f1b6da"
            ],
            [
             0.4,
             "#fde0ef"
            ],
            [
             0.5,
             "#f7f7f7"
            ],
            [
             0.6,
             "#e6f5d0"
            ],
            [
             0.7,
             "#b8e186"
            ],
            [
             0.8,
             "#7fbc41"
            ],
            [
             0.9,
             "#4d9221"
            ],
            [
             1,
             "#276419"
            ]
           ],
           "sequential": [
            [
             0,
             "#0d0887"
            ],
            [
             0.1111111111111111,
             "#46039f"
            ],
            [
             0.2222222222222222,
             "#7201a8"
            ],
            [
             0.3333333333333333,
             "#9c179e"
            ],
            [
             0.4444444444444444,
             "#bd3786"
            ],
            [
             0.5555555555555556,
             "#d8576b"
            ],
            [
             0.6666666666666666,
             "#ed7953"
            ],
            [
             0.7777777777777778,
             "#fb9f3a"
            ],
            [
             0.8888888888888888,
             "#fdca26"
            ],
            [
             1,
             "#f0f921"
            ]
           ],
           "sequentialminus": [
            [
             0,
             "#0d0887"
            ],
            [
             0.1111111111111111,
             "#46039f"
            ],
            [
             0.2222222222222222,
             "#7201a8"
            ],
            [
             0.3333333333333333,
             "#9c179e"
            ],
            [
             0.4444444444444444,
             "#bd3786"
            ],
            [
             0.5555555555555556,
             "#d8576b"
            ],
            [
             0.6666666666666666,
             "#ed7953"
            ],
            [
             0.7777777777777778,
             "#fb9f3a"
            ],
            [
             0.8888888888888888,
             "#fdca26"
            ],
            [
             1,
             "#f0f921"
            ]
           ]
          },
          "colorway": [
           "#636efa",
           "#EF553B",
           "#00cc96",
           "#ab63fa",
           "#FFA15A",
           "#19d3f3",
           "#FF6692",
           "#B6E880",
           "#FF97FF",
           "#FECB52"
          ],
          "font": {
           "color": "#2a3f5f"
          },
          "geo": {
           "bgcolor": "white",
           "lakecolor": "white",
           "landcolor": "#E5ECF6",
           "showlakes": true,
           "showland": true,
           "subunitcolor": "white"
          },
          "hoverlabel": {
           "align": "left"
          },
          "hovermode": "closest",
          "mapbox": {
           "style": "light"
          },
          "paper_bgcolor": "white",
          "plot_bgcolor": "#E5ECF6",
          "polar": {
           "angularaxis": {
            "gridcolor": "white",
            "linecolor": "white",
            "ticks": ""
           },
           "bgcolor": "#E5ECF6",
           "radialaxis": {
            "gridcolor": "white",
            "linecolor": "white",
            "ticks": ""
           }
          },
          "scene": {
           "xaxis": {
            "backgroundcolor": "#E5ECF6",
            "gridcolor": "white",
            "gridwidth": 2,
            "linecolor": "white",
            "showbackground": true,
            "ticks": "",
            "zerolinecolor": "white"
           },
           "yaxis": {
            "backgroundcolor": "#E5ECF6",
            "gridcolor": "white",
            "gridwidth": 2,
            "linecolor": "white",
            "showbackground": true,
            "ticks": "",
            "zerolinecolor": "white"
           },
           "zaxis": {
            "backgroundcolor": "#E5ECF6",
            "gridcolor": "white",
            "gridwidth": 2,
            "linecolor": "white",
            "showbackground": true,
            "ticks": "",
            "zerolinecolor": "white"
           }
          },
          "shapedefaults": {
           "line": {
            "color": "#2a3f5f"
           }
          },
          "ternary": {
           "aaxis": {
            "gridcolor": "white",
            "linecolor": "white",
            "ticks": ""
           },
           "baxis": {
            "gridcolor": "white",
            "linecolor": "white",
            "ticks": ""
           },
           "bgcolor": "#E5ECF6",
           "caxis": {
            "gridcolor": "white",
            "linecolor": "white",
            "ticks": ""
           }
          },
          "title": {
           "x": 0.05
          },
          "xaxis": {
           "automargin": true,
           "gridcolor": "white",
           "linecolor": "white",
           "ticks": "",
           "title": {
            "standoff": 15
           },
           "zerolinecolor": "white",
           "zerolinewidth": 2
          },
          "yaxis": {
           "automargin": true,
           "gridcolor": "white",
           "linecolor": "white",
           "ticks": "",
           "title": {
            "standoff": 15
           },
           "zerolinecolor": "white",
           "zerolinewidth": 2
          }
         }
        },
        "title": {
         "text": "Horas diarias en redes sociales por país (2024)"
        },
        "width": 1000
       }
      }
     },
     "metadata": {},
     "output_type": "display_data"
    }
   ],
   "source": [
    "import pandas as pd\n",
    "import plotly.express as px\n",
    "import os\n",
    "\n",
    "# Datos\n",
    "data = {\n",
    "    \"Country\": [\n",
    "        \"Brazil\", \"Nigeria\", \"Philippines\", \"South Africa\", \"Chile\", \"Kenya\", \"Columbia\",\n",
    "        \"Ghana\", \"Indonesia\", \"México\", \"Argentina\", \"Turkey\", \"Malaysia\", \"Saudi Arabia\",\n",
    "        \"UAE\", \"Egypt\", \"Bulgaria\", \"Thailand\", \"India\", \"Portugal\", \"Global\", \"Romania\",\n",
    "        \"Russia\", \"Vietnam\", \"Morocco\", \"USA\", \"Singapore\", \"Israel\", \"China\", \"New Zealand\",\n",
    "        \"Ireland\", \"Greece\", \"Hong Kong\", \"Canada\", \"Australia\", \"Norway\", \"Taiwan\", \"Poland\",\n",
    "        \"Spain\", \"Sweden\", \"Denmark\", \"Czechia\", \"France\", \"UK\", \"Italy\", \"Hungary\",\n",
    "        \"Switzerland\", \"Germany\", \"Netherlands\", \"Belgium\", \"South Korea\", \"Japan\"\n",
    "    ],\n",
    "    \"Hours\": [\n",
    "        3.49, 3.44, 3.38, 3.34, 3.34, 3.32, 3.29, 3.2, 3.14, 3.1, 3.08, 2.56, 2.52, 2.5,\n",
    "        2.44, 2.4, 2.38, 2.35, 2.29, 2.28, 2.26, 2.26, 2.22, 2.17, 2.16, 2.16, 2.11, 2.11,\n",
    "        2.04, 2.04, 1.59, 1.59, 1.55, 1.55, 1.53, 1.53, 1.53, 1.52, 1.52, 1.52, 1.49, 1.47,\n",
    "        1.46, 1.46, 1.43, 1.39, 1.36, 1.33, 1.31, 1.3, 1.11, 0.47\n",
    "    ]\n",
    "}\n",
    "\n",
    "df = pd.DataFrame(data)\n",
    "fig = px.treemap(\n",
    "    df,\n",
    "    path=['Country'],\n",
    "    values='Hours',\n",
    "    color='Hours',\n",
    "    color_continuous_scale='YlOrRd',\n",
    "    title='Horas diarias en redes sociales por país (2024)',\n",
    "    hover_data={'Hours': ':.2f'},\n",
    "    labels={'Hours': 'Horas/día'},\n",
    "    width=1000,\n",
    "    height=700\n",
    ")\n",
    "\n",
    "fig.update_layout(\n",
    "    margin=dict(t=50, l=25, r=25, b=25),\n",
    "    font=dict(size=12),\n",
    "    coloraxis_colorbar=dict(title='Horas/día', thickness=20)\n",
    ")\n",
    "\n",
    "fig.update_traces(\n",
    "    textinfo='label+value',\n",
    "    texttemplate='%{label}<br>%{value:.2f}h',\n",
    "    hovertemplate='<b>%{label}</b><br>Horas: %{value:.2f}'\n",
    ")\n",
    "fig.show()\n",
    "\n",
    "if not os.path.exists('images'):\n",
    "    os.makedirs('images')  \n",
    "\n",
    "fig.write_image(\n",
    "    os.path.join(ruta_images, \"graph1_JG.png\"),\n",
    "    scale=2,\n",
    "    format='png'\n",
    ")"
   ]
  },
  {
   "cell_type": "markdown",
   "id": "cb8e2df2",
   "metadata": {},
   "source": [
    "Datos obtenidos de:\n",
    "*Statista. \"Promedio de minutos diarios de uso de redes sociales por los internautas en países seleccionados en el tercer trimestre de 2023.\" Statista, 31 de enero de 2024, https://www.statista.com/statistics/270229/usage-duration-of-social-networks-by-country/.​*\n",
    "\n"
   ]
  },
  {
   "cell_type": "code",
   "execution_count": 11,
   "id": "9b2e6c7a",
   "metadata": {},
   "outputs": [
    {
     "data": {
      "image/png": "[encoded data removed]",
      "text/plain": [
       "<Figure size 1000x800 with 1 Axes>"
      ]
     },
     "metadata": {},
     "output_type": "display_data"
    }
   ],
   "source": [
    "import matplotlib.pyplot as plt\n",
    "import numpy as np\n",
    "\n",
    "data = {\n",
    "    'Año': [2017, 2018, 2019, 2020, 2021, 2022, 2023, 2024],\n",
    "    'Movistar': [20, 30, 40, 55, 70, 85, 95, 90],\n",
    "    'Claro': [15, 20, 28, 35, 50, 65, 80, 92],\n",
    "    'ENTEL': [20, 35, 55, 90, 120, 160, 200, 215],\n",
    "    'VTR Móvil': [1, 2, 3, 4, 5, 7, 9, 11],\n",
    "    'WOM': [18, 30, 50, 70, 100, 130, 145, 150]\n",
    "}\n",
    "colores = {\n",
    "    'Movistar': '#1f77b4',\n",
    "    'Claro': '#ff7f0e',\n",
    "    'ENTEL': '#2ca02c',\n",
    "    'VTR Móvil': '#d62728',\n",
    "    'WOM': '#9467bd'\n",
    "}\n",
    "radio_inicial = 50\n",
    "years = data['Año']\n",
    "companias = [key for key in data.keys() if key != 'Año']\n",
    "num_years = len(years)\n",
    "num_companias = len(companias)\n",
    "angulo_por_year = 2 * np.pi / num_years\n",
    "ancho_barra = angulo_por_year / num_companias * 0.95\n",
    "angulos = []\n",
    "valores = []\n",
    "colores_barras = []\n",
    "for i, year in enumerate(years):\n",
    "    angulo_base = i * angulo_por_year\n",
    "    \n",
    "    companias_ordenadas = sorted(companias, key=lambda x: data[x][i])\n",
    "    \n",
    "    for j, compania in enumerate(companias_ordenadas):\n",
    "        angulo = angulo_base + (j + 0.5) * (angulo_por_year / num_companias)\n",
    "        valor = data[compania][i]\n",
    "        \n",
    "        angulos.append(angulo)\n",
    "        valores.append(valor)\n",
    "        colores_barras.append(colores[compania])\n",
    "\n",
    "plt.figure(figsize=(10, 8))\n",
    "ax = plt.subplot(111, polar=True)\n",
    "plt.axis('off')\n",
    "barras = ax.bar(\n",
    "    x=angulos,\n",
    "    height=valores,\n",
    "    width=ancho_barra,\n",
    "    bottom=radio_inicial,  \n",
    "    color=colores_barras,\n",
    "    edgecolor='white',\n",
    "    linewidth=1.5,\n",
    "    alpha=0.9\n",
    ")\n",
    "for i in range(num_years + 1):\n",
    "    angulo_divisor = i * angulo_por_year\n",
    "    ax.plot([angulo_divisor, angulo_divisor], \n",
    "            [radio_inicial, radio_inicial + max(valores) + 50],  \n",
    "            color='gray', linestyle='--', linewidth=1, alpha=0.7)\n",
    "max_height = radio_inicial + max(valores) + 70\n",
    "for i, year in enumerate(years): #años\n",
    "    angulo = i * angulo_por_year + angulo_por_year / 2\n",
    "    ax.text(\n",
    "        angulo, max_height, str(year),\n",
    "        ha='center', va='center',\n",
    "        rotation=np.degrees(angulo),\n",
    "        rotation_mode='anchor',\n",
    "        fontsize=12,\n",
    "        fontweight='bold',\n",
    "        color='#2d2d2d'\n",
    "    )\n",
    "for bar, angulo, valor in zip(barras, angulos, valores): #valor entre año\n",
    "    rotation = np.degrees(angulo)\n",
    "    alignment = \"right\" if (angulo >= np.pi/2 and angulo < 3*np.pi/2) else \"left\"\n",
    "    rotation = rotation + 180 if alignment == \"right\" else rotation\n",
    "    y_position = radio_inicial + (bar.get_height()/2)\n",
    "    if valor < 300:\n",
    "        y_position = radio_inicial + bar.get_height() +3  \n",
    "        text_color = 'black'\n",
    "        bbox_props = dict(boxstyle=\"round,pad=0.1\", facecolor='white', edgecolor='none', alpha=0.2)\n",
    "    else:\n",
    "        text_color = 'white'\n",
    "        bbox_props = None\n",
    "        \n",
    "    ax.text(\n",
    "        x=angulo,\n",
    "        y=y_position,\n",
    "        s=f\"{valor}K\",\n",
    "        ha=alignment,\n",
    "        va='center',\n",
    "        rotation=rotation,\n",
    "        rotation_mode='anchor',\n",
    "        color=text_color,\n",
    "        fontsize=8,\n",
    "        fontweight='bold',\n",
    "        bbox=bbox_props\n",
    "    )\n",
    "ax.set_ylim(0, radio_inicial + max(valores) + 100)\n",
    "leyenda = [plt.Rectangle((0,0),1,1, color=colores[compania]) for compania in companias]\n",
    "ax.legend(\n",
    "    leyenda,\n",
    "    companias,\n",
    "    loc='upper right',\n",
    "    bbox_to_anchor=(1.25, 1.1),\n",
    "    title='Compañías',\n",
    "    title_fontsize=14,\n",
    "    fontsize=12\n",
    ")\n",
    "\n",
    "plt.title('Evolución de clientes por compañía (miles de habitantes)', \n",
    "         pad=50, fontsize=18, fontweight='bold')\n",
    "plt.tight_layout()\n",
    "plt.savefig(\n",
    "    os.path.join(ruta_images, \"graph_JG2.png\"),  \n",
    "    dpi=200,\n",
    "    bbox_inches='tight',\n",
    "    transparent=False\n",
    ")\n",
    "\n",
    "plt.show()"
   ]
  }
 ],
 "metadata": {
  "kernelspec": {
   "display_name": "Python 3",
   "language": "python",
   "name": "python3"
  },
  "language_info": {
   "codemirror_mode": {
    "name": "ipython",
    "version": 3
   },
   "file_extension": ".py",
   "mimetype": "text/x-python",
   "name": "python",
   "nbconvert_exporter": "python",
   "pygments_lexer": "ipython3",
   "version": "3.12.4"
  }
 },
 "nbformat": 4,
 "nbformat_minor": 5
}
